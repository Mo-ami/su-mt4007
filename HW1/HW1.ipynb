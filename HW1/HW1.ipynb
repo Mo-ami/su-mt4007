{
 "cells": [
  {
   "cell_type": "markdown",
   "id": "678dd656-6dd1-4de5-9611-bb1936a9e2b4",
   "metadata": {},
   "source": [
    "# Homework 1\n",
    "\n",
    "Hello, I'm a second-year student who has recently started the course *Statistisk databehandling* at Stockholms University. I have no experience when it comes to data science. I have no experience in data science; however, I do have some experience with the programming language Python, having completed the course *Programmeringsteknik*. \n",
    "\n"
   ]
  }
 ],
 "metadata": {
  "kernelspec": {
   "display_name": "Python 3 (ipykernel)",
   "language": "python",
   "name": "python3"
  },
  "language_info": {
   "codemirror_mode": {
    "name": "ipython",
    "version": 3
   },
   "file_extension": ".py",
   "mimetype": "text/x-python",
   "name": "python",
   "nbconvert_exporter": "python",
   "pygments_lexer": "ipython3",
   "version": "3.11.5"
  }
 },
 "nbformat": 4,
 "nbformat_minor": 5
}
