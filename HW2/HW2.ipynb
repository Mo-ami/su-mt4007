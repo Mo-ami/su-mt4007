{
 "cells": [
  {
   "cell_type": "markdown",
   "id": "c4dc22a5-a0ee-4fad-85bc-78f28a5b97c3",
   "metadata": {
    "tags": []
   },
   "source": [
    "# Homework 2: Data Analysis and Visualization\n",
    "\n",
    "**Course:** Statistical Data Processing  \n",
    "**Date:** 19/11/2024  \n",
    "\n",
    "---\n",
    "\n",
    "## Table of Contents\n",
    "\n",
    "1. <a href=\"#working-with-tables-apartment-prices\">Working with Tables: Apartment Prices</a>\n",
    "    - <a href=\"#calculating-price-per-square-meter-ppsqm\">1.1 Calculating Price per Square Meter (ppsqm)</a>\n",
    "    - <a href=\"#ranking-top-5-most-expensive-apartments\">1.2 Ranking Top 5 Most Expensive Apartments</a>\n",
    "    - <a href=\"#average-ppsqm-in-ekhagen\">1.3 Average ppsqm in Ekhagen</a>\n",
    "    - <a href=\"#interesting-data-aspect\">1.4 Interesting Data Aspect</a>\n",
    "2. <a href=\"#the-swedish-election-of-2018\">The Swedish Election of 2018</a>\n",
    "    - <a href=\"#total-legitimate-votes-in-stockholm\">1.1 Total Legitimate Votes in Stockholm</a>\n",
    "    - <a href=\"#municipality-with-highest-social-democratic-voting-percentage\">1.2 Municipality with Highest Social Democratic Voting Percentage</a>\n",
    "    - <a href=\"#top-3-municipalities-with-highest-participation\">1.3 Top 3 Municipalities with Highest Participation</a>\n",
    "3. <a href=\"#predicting-strokes\">Predicting Strokes</a>\n",
    "    - <a href=\"#hypertension-and-stroke-cases\">3.1 Hypertension and stroke cases</a>\n",
    "    - <a href=\"#conclusion-from-data-visualization\">3.2 Conclusion from Data Visualization</a>\n",
    "---\n",
    "\n",
    "## <a id=\"working-with-tables-apartment-prices\">1. Working with Tables: Apartment Prices</a>\n",
    "We will analyze the dataset on apartment sales in Ekhagen to uncover insights into housing prices. Specifically, we calculate the price per square meter (ppsqm) for each apartment, rank the top 5 most expensive apartments based on ppsqm, and compute the average ppsqm in the area. Additionally, we highlight an interesting finding about the relationship between apartment size and ppsqm. Firstly we'll read in the our dataset. "
   ]
  },
  {
   "cell_type": "code",
   "execution_count": 240,
   "id": "0d05d7ab-9b21-4e38-b3f0-1e54491afe0f",
   "metadata": {
    "tags": []
   },
   "outputs": [
    {
     "data": {
      "text/html": [
       "<div>\n",
       "<style scoped>\n",
       "    .dataframe tbody tr th:only-of-type {\n",
       "        vertical-align: middle;\n",
       "    }\n",
       "\n",
       "    .dataframe tbody tr th {\n",
       "        vertical-align: top;\n",
       "    }\n",
       "\n",
       "    .dataframe thead th {\n",
       "        text-align: right;\n",
       "    }\n",
       "</style>\n",
       "<table border=\"1\" class=\"dataframe\">\n",
       "  <thead>\n",
       "    <tr style=\"text-align: right;\">\n",
       "      <th></th>\n",
       "      <th>listPrice</th>\n",
       "      <th>rent</th>\n",
       "      <th>livingArea</th>\n",
       "      <th>rooms</th>\n",
       "      <th>published</th>\n",
       "      <th>constructionYear</th>\n",
       "      <th>objectType</th>\n",
       "      <th>booliId</th>\n",
       "      <th>soldDate</th>\n",
       "      <th>soldPrice</th>\n",
       "      <th>...</th>\n",
       "      <th>location.position.latitude</th>\n",
       "      <th>location.position.longitude</th>\n",
       "      <th>location.position.isApproximate</th>\n",
       "      <th>location.region.municipalityName</th>\n",
       "      <th>location.region.countyName</th>\n",
       "      <th>location.distance.ocean</th>\n",
       "      <th>source.name</th>\n",
       "      <th>source.id</th>\n",
       "      <th>source.type</th>\n",
       "      <th>source.url</th>\n",
       "    </tr>\n",
       "  </thead>\n",
       "  <tbody>\n",
       "    <tr>\n",
       "      <th>0</th>\n",
       "      <td>3995000</td>\n",
       "      <td>4467.0</td>\n",
       "      <td>73.0</td>\n",
       "      <td>3.0</td>\n",
       "      <td>2018-10-15 13:33:18</td>\n",
       "      <td>1935.0</td>\n",
       "      <td>Lägenhet</td>\n",
       "      <td>3263989</td>\n",
       "      <td>2018-11-08</td>\n",
       "      <td>3820000</td>\n",
       "      <td>...</td>\n",
       "      <td>59.371033</td>\n",
       "      <td>18.054057</td>\n",
       "      <td>NaN</td>\n",
       "      <td>Stockholm</td>\n",
       "      <td>Stockholms län</td>\n",
       "      <td>260</td>\n",
       "      <td>MOHV</td>\n",
       "      <td>1901865</td>\n",
       "      <td>Broker</td>\n",
       "      <td>http://www.mohv.se/</td>\n",
       "    </tr>\n",
       "    <tr>\n",
       "      <th>1</th>\n",
       "      <td>1995000</td>\n",
       "      <td>1773.0</td>\n",
       "      <td>36.0</td>\n",
       "      <td>1.0</td>\n",
       "      <td>2018-10-05 14:29:28</td>\n",
       "      <td>1968.0</td>\n",
       "      <td>Lägenhet</td>\n",
       "      <td>3256231</td>\n",
       "      <td>2018-10-19</td>\n",
       "      <td>2355000</td>\n",
       "      <td>...</td>\n",
       "      <td>59.371242</td>\n",
       "      <td>18.057821</td>\n",
       "      <td>NaN</td>\n",
       "      <td>Stockholm</td>\n",
       "      <td>Stockholms län</td>\n",
       "      <td>218</td>\n",
       "      <td>Notar</td>\n",
       "      <td>1566</td>\n",
       "      <td>Broker</td>\n",
       "      <td>http://www.notar.se/</td>\n",
       "    </tr>\n",
       "    <tr>\n",
       "      <th>2</th>\n",
       "      <td>5100000</td>\n",
       "      <td>3839.0</td>\n",
       "      <td>81.0</td>\n",
       "      <td>3.0</td>\n",
       "      <td>2018-09-11 13:44:43</td>\n",
       "      <td>1936.0</td>\n",
       "      <td>Lägenhet</td>\n",
       "      <td>3236660</td>\n",
       "      <td>2018-09-27</td>\n",
       "      <td>6110000</td>\n",
       "      <td>...</td>\n",
       "      <td>59.371617</td>\n",
       "      <td>18.054716</td>\n",
       "      <td>NaN</td>\n",
       "      <td>Stockholm</td>\n",
       "      <td>Stockholms län</td>\n",
       "      <td>186</td>\n",
       "      <td>Historiska Hem AB</td>\n",
       "      <td>65645750</td>\n",
       "      <td>Broker</td>\n",
       "      <td>http://historiskahem.se/</td>\n",
       "    </tr>\n",
       "  </tbody>\n",
       "</table>\n",
       "<p>3 rows × 27 columns</p>\n",
       "</div>"
      ],
      "text/plain": [
       "   listPrice    rent  livingArea  rooms            published  \\\n",
       "0    3995000  4467.0        73.0    3.0  2018-10-15 13:33:18   \n",
       "1    1995000  1773.0        36.0    1.0  2018-10-05 14:29:28   \n",
       "2    5100000  3839.0        81.0    3.0  2018-09-11 13:44:43   \n",
       "\n",
       "   constructionYear objectType  booliId    soldDate  soldPrice  ...  \\\n",
       "0            1935.0   Lägenhet  3263989  2018-11-08    3820000  ...   \n",
       "1            1968.0   Lägenhet  3256231  2018-10-19    2355000  ...   \n",
       "2            1936.0   Lägenhet  3236660  2018-09-27    6110000  ...   \n",
       "\n",
       "  location.position.latitude location.position.longitude  \\\n",
       "0                  59.371033                   18.054057   \n",
       "1                  59.371242                   18.057821   \n",
       "2                  59.371617                   18.054716   \n",
       "\n",
       "   location.position.isApproximate  location.region.municipalityName  \\\n",
       "0                              NaN                         Stockholm   \n",
       "1                              NaN                         Stockholm   \n",
       "2                              NaN                         Stockholm   \n",
       "\n",
       "   location.region.countyName  location.distance.ocean        source.name  \\\n",
       "0              Stockholms län                      260               MOHV   \n",
       "1              Stockholms län                      218              Notar   \n",
       "2              Stockholms län                      186  Historiska Hem AB   \n",
       "\n",
       "   source.id  source.type                source.url  \n",
       "0    1901865       Broker       http://www.mohv.se/  \n",
       "1       1566       Broker      http://www.notar.se/  \n",
       "2   65645750       Broker  http://historiskahem.se/  \n",
       "\n",
       "[3 rows x 27 columns]"
      ]
     },
     "execution_count": 240,
     "metadata": {},
     "output_type": "execute_result"
    }
   ],
   "source": [
    "# Import necessary libraries\n",
    "import pandas as pd\n",
    "\n",
    "# Read the data from the provided URL or local file path\n",
    "url = \"https://raw.githubusercontent.com/su-mt4007/data/refs/heads/main/Booli_sold.csv\"\n",
    "df = pd.read_csv(url)\n",
    "\n",
    "# Display the first few rows of the dataset\n",
    "df.head(3)"
   ]
  },
  {
   "cell_type": "markdown",
   "id": "1e39b546-7304-4e26-bcc7-b993481bd624",
   "metadata": {},
   "source": [
    "\n",
    "### <a id=\"calculating-price-per-square-meter-ppsqm\">1.1 Calculating Price per Square Meter (ppsqm)</a>\n",
    "\n",
    "A new variable ppsqm is added to the dataset by dividing the apartment price by its area. Then we show it in a table format with only a select number of relevant columns. "
   ]
  },
  {
   "cell_type": "code",
   "execution_count": 252,
   "id": "0cffd750-3fdd-4bbc-97ee-ba263c6fe7dc",
   "metadata": {
    "tags": []
   },
   "outputs": [
    {
     "data": {
      "text/html": [
       "<div>\n",
       "<style scoped>\n",
       "    .dataframe tbody tr th:only-of-type {\n",
       "        vertical-align: middle;\n",
       "    }\n",
       "\n",
       "    .dataframe tbody tr th {\n",
       "        vertical-align: top;\n",
       "    }\n",
       "\n",
       "    .dataframe thead th {\n",
       "        text-align: right;\n",
       "    }\n",
       "</style>\n",
       "<table border=\"1\" class=\"dataframe\">\n",
       "  <thead>\n",
       "    <tr style=\"text-align: right;\">\n",
       "      <th></th>\n",
       "      <th>location.address.streetAddress</th>\n",
       "      <th>soldPrice</th>\n",
       "      <th>livingArea</th>\n",
       "      <th>ppsqm</th>\n",
       "    </tr>\n",
       "  </thead>\n",
       "  <tbody>\n",
       "    <tr>\n",
       "      <th>0</th>\n",
       "      <td>Åminnevägen 19</td>\n",
       "      <td>3820000</td>\n",
       "      <td>73.0</td>\n",
       "      <td>52328.0</td>\n",
       "    </tr>\n",
       "    <tr>\n",
       "      <th>1</th>\n",
       "      <td>Docentbacken 9</td>\n",
       "      <td>2355000</td>\n",
       "      <td>36.0</td>\n",
       "      <td>65416.0</td>\n",
       "    </tr>\n",
       "    <tr>\n",
       "      <th>2</th>\n",
       "      <td>Ekhagsvägen 5</td>\n",
       "      <td>6110000</td>\n",
       "      <td>81.0</td>\n",
       "      <td>75432.0</td>\n",
       "    </tr>\n",
       "  </tbody>\n",
       "</table>\n",
       "</div>"
      ],
      "text/plain": [
       "  location.address.streetAddress  soldPrice  livingArea    ppsqm\n",
       "0                 Åminnevägen 19    3820000        73.0  52328.0\n",
       "1                 Docentbacken 9    2355000        36.0  65416.0\n",
       "2                  Ekhagsvägen 5    6110000        81.0  75432.0"
      ]
     },
     "execution_count": 252,
     "metadata": {},
     "output_type": "execute_result"
    }
   ],
   "source": [
    "# Calculate price per square meter\n",
    "df[\"ppsqm\"] = df[\"soldPrice\"] // df[\"livingArea\"]\n",
    "\n",
    "# Display the updated DataFrame relevant columns for presentation\n",
    "cleaned_df = df[[\"location.address.streetAddress\", \"soldPrice\", \"livingArea\", \"ppsqm\"]]\n",
    "cleaned_df.head(3)"
   ]
  },
  {
   "cell_type": "markdown",
   "id": "4dee8548-7aab-41ca-b4a6-78b8d7f755f3",
   "metadata": {},
   "source": [
    "### <a id=\"ranking-top-5-most-expensive-apartments\">1.2 Ranking Top 5 Most Expensive Apartments</a>\n",
    "Ranking the top 5 most expensive apartment in Ekhagen by price per square meter (ppsqm) and displaying them in a table."
   ]
  },
  {
   "cell_type": "code",
   "execution_count": 253,
   "id": "9a4f6bc6-136d-45ac-b3f5-453377a0be6a",
   "metadata": {
    "tags": []
   },
   "outputs": [
    {
     "data": {
      "text/html": [
       "<div>\n",
       "<style scoped>\n",
       "    .dataframe tbody tr th:only-of-type {\n",
       "        vertical-align: middle;\n",
       "    }\n",
       "\n",
       "    .dataframe tbody tr th {\n",
       "        vertical-align: top;\n",
       "    }\n",
       "\n",
       "    .dataframe thead th {\n",
       "        text-align: right;\n",
       "    }\n",
       "</style>\n",
       "<table border=\"1\" class=\"dataframe\">\n",
       "  <thead>\n",
       "    <tr style=\"text-align: right;\">\n",
       "      <th></th>\n",
       "      <th>location.address.streetAddress</th>\n",
       "      <th>soldPrice</th>\n",
       "      <th>livingArea</th>\n",
       "      <th>ppsqm</th>\n",
       "    </tr>\n",
       "  </thead>\n",
       "  <tbody>\n",
       "    <tr>\n",
       "      <th>67</th>\n",
       "      <td>Ekhagsvägen 8</td>\n",
       "      <td>2500000</td>\n",
       "      <td>24.0</td>\n",
       "      <td>104166.0</td>\n",
       "    </tr>\n",
       "    <tr>\n",
       "      <th>50</th>\n",
       "      <td>Ekhagsvägen 8</td>\n",
       "      <td>2450000</td>\n",
       "      <td>24.0</td>\n",
       "      <td>102083.0</td>\n",
       "    </tr>\n",
       "    <tr>\n",
       "      <th>54</th>\n",
       "      <td>Ekhagsvägen 10</td>\n",
       "      <td>2300000</td>\n",
       "      <td>23.0</td>\n",
       "      <td>100000.0</td>\n",
       "    </tr>\n",
       "    <tr>\n",
       "      <th>34</th>\n",
       "      <td>Torphagsvägen 4</td>\n",
       "      <td>2210000</td>\n",
       "      <td>25.0</td>\n",
       "      <td>88400.0</td>\n",
       "    </tr>\n",
       "    <tr>\n",
       "      <th>55</th>\n",
       "      <td>Docentbacken 1B</td>\n",
       "      <td>2300000</td>\n",
       "      <td>26.9</td>\n",
       "      <td>85501.0</td>\n",
       "    </tr>\n",
       "  </tbody>\n",
       "</table>\n",
       "</div>"
      ],
      "text/plain": [
       "   location.address.streetAddress  soldPrice  livingArea     ppsqm\n",
       "67                  Ekhagsvägen 8    2500000        24.0  104166.0\n",
       "50                  Ekhagsvägen 8    2450000        24.0  102083.0\n",
       "54                 Ekhagsvägen 10    2300000        23.0  100000.0\n",
       "34                Torphagsvägen 4    2210000        25.0   88400.0\n",
       "55                Docentbacken 1B    2300000        26.9   85501.0"
      ]
     },
     "execution_count": 253,
     "metadata": {},
     "output_type": "execute_result"
    }
   ],
   "source": [
    "# Sort the DataFrame by ppsqm in descending order\n",
    "top5_ppsqm = df.sort_values(by=\"ppsqm\", ascending=False)\n",
    "\n",
    "# Select relevant columns for presentation\n",
    "top5_ppsqm = top5_ppsqm[[\"location.address.streetAddress\", \"soldPrice\",\"livingArea\", \"ppsqm\"]]\n",
    "\n",
    "# Display the top 5 most expensive apartments\n",
    "top5_ppsqm.head(5)"
   ]
  },
  {
   "cell_type": "markdown",
   "id": "201cc7e6-7b1d-40ff-8294-4d9a4c92ce01",
   "metadata": {},
   "source": [
    "### <a id =\"average-ppsqm-in-ekhagen\">1.3 Average ppsqm in Ekhagen</a>\n",
    "Calculating the average ppsqm across all apartments in Ekhagen with the mean of our previously added variable."
   ]
  },
  {
   "cell_type": "code",
   "execution_count": 254,
   "id": "089e6663-2ba8-424f-bdfd-6d91d3e0cd8c",
   "metadata": {
    "tags": []
   },
   "outputs": [
    {
     "name": "stdout",
     "output_type": "stream",
     "text": [
      "The average price per square meter in Ekhagen is 58758.93 SEK.\n"
     ]
    }
   ],
   "source": [
    "# Calculate the average ppsqm\n",
    "average_ppsqm = df[\"ppsqm\"].mean()\n",
    "\n",
    "print(f\"The average price per square meter in Ekhagen is {average_ppsqm:.2f} SEK.\")"
   ]
  },
  {
   "cell_type": "markdown",
   "id": "14a196e2-35ac-4168-8b15-0286ce0192ba",
   "metadata": {},
   "source": [
    "### <a id = \"interesting-data-aspect\" >1.4 Interesting Data Aspect </a>\n",
    "\n",
    "We rank the top 8 apartment by smallest living area and show it in a table."
   ]
  },
  {
   "cell_type": "code",
   "execution_count": 255,
   "id": "9837a80f-eadc-447f-9060-c5a971771217",
   "metadata": {
    "tags": []
   },
   "outputs": [
    {
     "data": {
      "text/html": [
       "<div>\n",
       "<style scoped>\n",
       "    .dataframe tbody tr th:only-of-type {\n",
       "        vertical-align: middle;\n",
       "    }\n",
       "\n",
       "    .dataframe tbody tr th {\n",
       "        vertical-align: top;\n",
       "    }\n",
       "\n",
       "    .dataframe thead th {\n",
       "        text-align: right;\n",
       "    }\n",
       "</style>\n",
       "<table border=\"1\" class=\"dataframe\">\n",
       "  <thead>\n",
       "    <tr style=\"text-align: right;\">\n",
       "      <th></th>\n",
       "      <th>location.address.streetAddress</th>\n",
       "      <th>soldPrice</th>\n",
       "      <th>livingArea</th>\n",
       "      <th>ppsqm</th>\n",
       "    </tr>\n",
       "  </thead>\n",
       "  <tbody>\n",
       "    <tr>\n",
       "      <th>150</th>\n",
       "      <td>Ekhagsvägen 10</td>\n",
       "      <td>1300000</td>\n",
       "      <td>20.0</td>\n",
       "      <td>65000.0</td>\n",
       "    </tr>\n",
       "    <tr>\n",
       "      <th>155</th>\n",
       "      <td>Åminnevägen 17</td>\n",
       "      <td>1450000</td>\n",
       "      <td>23.0</td>\n",
       "      <td>63043.0</td>\n",
       "    </tr>\n",
       "    <tr>\n",
       "      <th>54</th>\n",
       "      <td>Ekhagsvägen 10</td>\n",
       "      <td>2300000</td>\n",
       "      <td>23.0</td>\n",
       "      <td>100000.0</td>\n",
       "    </tr>\n",
       "    <tr>\n",
       "      <th>50</th>\n",
       "      <td>Ekhagsvägen 8</td>\n",
       "      <td>2450000</td>\n",
       "      <td>24.0</td>\n",
       "      <td>102083.0</td>\n",
       "    </tr>\n",
       "    <tr>\n",
       "      <th>67</th>\n",
       "      <td>Ekhagsvägen 8</td>\n",
       "      <td>2500000</td>\n",
       "      <td>24.0</td>\n",
       "      <td>104166.0</td>\n",
       "    </tr>\n",
       "    <tr>\n",
       "      <th>34</th>\n",
       "      <td>Torphagsvägen 4</td>\n",
       "      <td>2210000</td>\n",
       "      <td>25.0</td>\n",
       "      <td>88400.0</td>\n",
       "    </tr>\n",
       "    <tr>\n",
       "      <th>153</th>\n",
       "      <td>Ekhagsvägen 12</td>\n",
       "      <td>1475000</td>\n",
       "      <td>26.0</td>\n",
       "      <td>56730.0</td>\n",
       "    </tr>\n",
       "    <tr>\n",
       "      <th>55</th>\n",
       "      <td>Docentbacken 1B</td>\n",
       "      <td>2300000</td>\n",
       "      <td>26.9</td>\n",
       "      <td>85501.0</td>\n",
       "    </tr>\n",
       "  </tbody>\n",
       "</table>\n",
       "</div>"
      ],
      "text/plain": [
       "    location.address.streetAddress  soldPrice  livingArea     ppsqm\n",
       "150                 Ekhagsvägen 10    1300000        20.0   65000.0\n",
       "155                 Åminnevägen 17    1450000        23.0   63043.0\n",
       "54                  Ekhagsvägen 10    2300000        23.0  100000.0\n",
       "50                   Ekhagsvägen 8    2450000        24.0  102083.0\n",
       "67                   Ekhagsvägen 8    2500000        24.0  104166.0\n",
       "34                 Torphagsvägen 4    2210000        25.0   88400.0\n",
       "153                 Ekhagsvägen 12    1475000        26.0   56730.0\n",
       "55                 Docentbacken 1B    2300000        26.9   85501.0"
      ]
     },
     "execution_count": 255,
     "metadata": {},
     "output_type": "execute_result"
    }
   ],
   "source": [
    "# Sorting the DataFrame by livingArea in ascending order\n",
    "apa_area = df.sort_values(by=\"livingArea\", ascending=True)\n",
    "\n",
    "# Selecting relevant data\n",
    "apa_area = apa_area[[\"location.address.streetAddress\", \"soldPrice\",\"livingArea\", \"ppsqm\"]]\n",
    "apa_area.head(8)"
   ]
  },
  {
   "cell_type": "markdown",
   "id": "bccb26a7-6e79-4fc4-9bd1-f4740bdc6fd9",
   "metadata": {},
   "source": [
    "We see that all of the most expensive locations by apartment price per square meter also rank within the top eight for smallest living areas. This is intriguing, as it aligns with our intuitive understanding that larger apartments generally have a lower price per square meter, making the reverse true in this case as well.\n"
   ]
  },
  {
   "cell_type": "markdown",
   "id": "988849c4-547e-4062-a71f-c841c858cd5e",
   "metadata": {
    "tags": []
   },
   "source": [
    "## <a id=\"the-swedish-election-of-2018\">2. The Swedish Election of 2018</a>\n",
    "\n",
    "We will analyze voting data from the 2018 Swedish election to draw insights into electoral patterns in Stockholm municipalities. Specifically, we calculate the total number of legitimate votes (Giltiga Röster) in Stockholm, identify the municipality where the Social Democratic Party (S) garnered the highest percentage of votes, and rank the top 3 municipalities with the highest voter participation (valdeltagande)."
   ]
  },
  {
   "cell_type": "code",
   "execution_count": 258,
   "id": "ba7975d2-f9bc-43f0-bc7c-2048125a6046",
   "metadata": {},
   "outputs": [
    {
     "data": {
      "text/html": [
       "<div>\n",
       "<style scoped>\n",
       "    .dataframe tbody tr th:only-of-type {\n",
       "        vertical-align: middle;\n",
       "    }\n",
       "\n",
       "    .dataframe tbody tr th {\n",
       "        vertical-align: top;\n",
       "    }\n",
       "\n",
       "    .dataframe thead th {\n",
       "        text-align: right;\n",
       "    }\n",
       "</style>\n",
       "<table border=\"1\" class=\"dataframe\">\n",
       "  <thead>\n",
       "    <tr style=\"text-align: right;\">\n",
       "      <th></th>\n",
       "      <th>LÄNSKOD</th>\n",
       "      <th>KOMMUNKOD</th>\n",
       "      <th>LÄNSNAMN</th>\n",
       "      <th>KOMMUNNAMN</th>\n",
       "      <th>M</th>\n",
       "      <th>C</th>\n",
       "      <th>L</th>\n",
       "      <th>KD</th>\n",
       "      <th>S</th>\n",
       "      <th>V</th>\n",
       "      <th>...</th>\n",
       "      <th>TRP</th>\n",
       "      <th>VL-S</th>\n",
       "      <th>ÖVR</th>\n",
       "      <th>OGEJ</th>\n",
       "      <th>BLANK</th>\n",
       "      <th>OG</th>\n",
       "      <th>RÖSTER GILTIGA</th>\n",
       "      <th>RÖSTANDE</th>\n",
       "      <th>RÖSTBERÄTTIGADE</th>\n",
       "      <th>VALDELTAGANDE</th>\n",
       "    </tr>\n",
       "  </thead>\n",
       "  <tbody>\n",
       "    <tr>\n",
       "      <th>0</th>\n",
       "      <td>1</td>\n",
       "      <td>14</td>\n",
       "      <td>Stockholms län</td>\n",
       "      <td>Upplands Väsby</td>\n",
       "      <td>23.11</td>\n",
       "      <td>6.26</td>\n",
       "      <td>5.66</td>\n",
       "      <td>6.71</td>\n",
       "      <td>26.97</td>\n",
       "      <td>8.01</td>\n",
       "      <td>...</td>\n",
       "      <td>NaN</td>\n",
       "      <td>NaN</td>\n",
       "      <td>NaN</td>\n",
       "      <td>0.04</td>\n",
       "      <td>0.69</td>\n",
       "      <td>0.06</td>\n",
       "      <td>25830</td>\n",
       "      <td>26036</td>\n",
       "      <td>30740</td>\n",
       "      <td>84.70</td>\n",
       "    </tr>\n",
       "    <tr>\n",
       "      <th>1</th>\n",
       "      <td>1</td>\n",
       "      <td>15</td>\n",
       "      <td>Stockholms län</td>\n",
       "      <td>Vallentuna</td>\n",
       "      <td>28.29</td>\n",
       "      <td>10.11</td>\n",
       "      <td>7.73</td>\n",
       "      <td>7.58</td>\n",
       "      <td>18.91</td>\n",
       "      <td>4.47</td>\n",
       "      <td>...</td>\n",
       "      <td>0.0</td>\n",
       "      <td>NaN</td>\n",
       "      <td>0.00</td>\n",
       "      <td>0.02</td>\n",
       "      <td>0.59</td>\n",
       "      <td>0.08</td>\n",
       "      <td>20952</td>\n",
       "      <td>21099</td>\n",
       "      <td>23438</td>\n",
       "      <td>90.02</td>\n",
       "    </tr>\n",
       "    <tr>\n",
       "      <th>2</th>\n",
       "      <td>1</td>\n",
       "      <td>17</td>\n",
       "      <td>Stockholms län</td>\n",
       "      <td>Österåker</td>\n",
       "      <td>29.68</td>\n",
       "      <td>9.35</td>\n",
       "      <td>7.48</td>\n",
       "      <td>7.13</td>\n",
       "      <td>19.71</td>\n",
       "      <td>4.97</td>\n",
       "      <td>...</td>\n",
       "      <td>NaN</td>\n",
       "      <td>NaN</td>\n",
       "      <td>0.01</td>\n",
       "      <td>0.03</td>\n",
       "      <td>0.69</td>\n",
       "      <td>0.13</td>\n",
       "      <td>27711</td>\n",
       "      <td>27947</td>\n",
       "      <td>31309</td>\n",
       "      <td>89.26</td>\n",
       "    </tr>\n",
       "  </tbody>\n",
       "</table>\n",
       "<p>3 rows × 45 columns</p>\n",
       "</div>"
      ],
      "text/plain": [
       "   LÄNSKOD  KOMMUNKOD        LÄNSNAMN      KOMMUNNAMN      M      C     L  \\\n",
       "0        1         14  Stockholms län  Upplands Väsby  23.11   6.26  5.66   \n",
       "1        1         15  Stockholms län      Vallentuna  28.29  10.11  7.73   \n",
       "2        1         17  Stockholms län       Österåker  29.68   9.35  7.48   \n",
       "\n",
       "     KD      S     V  ...  TRP  VL-S   ÖVR  OGEJ  BLANK    OG  RÖSTER GILTIGA  \\\n",
       "0  6.71  26.97  8.01  ...  NaN   NaN   NaN  0.04   0.69  0.06           25830   \n",
       "1  7.58  18.91  4.47  ...  0.0   NaN  0.00  0.02   0.59  0.08           20952   \n",
       "2  7.13  19.71  4.97  ...  NaN   NaN  0.01  0.03   0.69  0.13           27711   \n",
       "\n",
       "   RÖSTANDE  RÖSTBERÄTTIGADE  VALDELTAGANDE  \n",
       "0     26036            30740          84.70  \n",
       "1     21099            23438          90.02  \n",
       "2     27947            31309          89.26  \n",
       "\n",
       "[3 rows x 45 columns]"
      ]
     },
     "execution_count": 258,
     "metadata": {},
     "output_type": "execute_result"
    }
   ],
   "source": [
    "# Read the election data\n",
    "election_url = \"https://raw.githubusercontent.com/su-mt4007/data/refs/heads/main/2018_R_per_kommun.csv\"\n",
    "# Assuming the CSV uses ';' as delimiter and ',' as decimal\n",
    "election_df = pd.read_csv(election_url, delimiter=\";\", decimal=\",\")\n",
    "\n",
    "# Display the first few rows of the dataset\n",
    "election_df.head(3)"
   ]
  },
  {
   "cell_type": "markdown",
   "id": "92bc64fa-9d9a-44b3-98c3-99ee3aa76752",
   "metadata": {},
   "source": [
    "### <a id = \"total-legitimate-votes-in-stockholm\"> 1.1 Total Legitimate Votes in Stockholm</a>\n",
    "Calculating the total number of legitimate votes in Stockholm."
   ]
  },
  {
   "cell_type": "code",
   "execution_count": 259,
   "id": "bc27e54e-4621-49ee-8311-73443fe7dc2a",
   "metadata": {
    "tags": []
   },
   "outputs": [
    {
     "name": "stdout",
     "output_type": "stream",
     "text": [
      "Total legitimate votes in Stockholm: 1426237\n"
     ]
    }
   ],
   "source": [
    "#Filtering for Stockholm region\n",
    "filtered_election_df = election_df.loc[election_df[\"LÄNSNAMN\"] == \"Stockholms län\"]\n",
    "\n",
    "# Calculate the total number of legitimate votes in Stockholm\n",
    "total_votes_stockholm = filtered_election_df[\"RÖSTER GILTIGA\"].sum()\n",
    "\n",
    "print(f\"Total legitimate votes in Stockholm: {total_votes_stockholm}\")"
   ]
  },
  {
   "cell_type": "markdown",
   "id": "a4537078-d23b-499c-964e-5a3c8ae8909b",
   "metadata": {},
   "source": [
    "### <a id=\"municipality-with-highest-social-democratic-voting-percentage\">1.2 Municipality with Highest Social Democratic Voting Percentage</a>\n",
    "\n",
    "\n",
    "Identifying which municipality had the highest percentage of votes for the Social Democratic Party."
   ]
  },
  {
   "cell_type": "code",
   "execution_count": 264,
   "id": "28336126-563d-4c97-a9da-15379769af83",
   "metadata": {
    "tags": []
   },
   "outputs": [
    {
     "name": "stdout",
     "output_type": "stream",
     "text": [
      "Municipality with highest Social Democratic voting percentage: Munkfors (52.18%).\n"
     ]
    }
   ],
   "source": [
    "# Find the municipality with the highest Social Democratic voting percentage\n",
    "top_social_dem = election_df.loc[election_df['S'].idxmax()]\n",
    "\n",
    "print(f\"Municipality with highest Social Democratic voting percentage: {top_social_dem['KOMMUNNAMN']} ({top_social_dem['S']}%).\")"
   ]
  },
  {
   "cell_type": "markdown",
   "id": "4a341adf-1dc7-4986-9581-f11a4cddca8d",
   "metadata": {
    "tags": []
   },
   "source": [
    "### <a id=\"top-3-municipalities-with-highest-participation\">1.3 Top 3 Municipalities with Highest Participation</a>\n",
    "\n",
    "Ranking the top 3 municipalities based on voter participation (Valdeltagande (%)) and presenting this in a table. "
   ]
  },
  {
   "cell_type": "code",
   "execution_count": 266,
   "id": "c9ae1cfe-a549-4c2b-860b-fb55db7a187a",
   "metadata": {
    "tags": []
   },
   "outputs": [
    {
     "data": {
      "text/html": [
       "<div>\n",
       "<style scoped>\n",
       "    .dataframe tbody tr th:only-of-type {\n",
       "        vertical-align: middle;\n",
       "    }\n",
       "\n",
       "    .dataframe tbody tr th {\n",
       "        vertical-align: top;\n",
       "    }\n",
       "\n",
       "    .dataframe thead th {\n",
       "        text-align: right;\n",
       "    }\n",
       "</style>\n",
       "<table border=\"1\" class=\"dataframe\">\n",
       "  <thead>\n",
       "    <tr style=\"text-align: right;\">\n",
       "      <th></th>\n",
       "      <th>KOMMUNNAMN</th>\n",
       "      <th>VALDELTAGANDE</th>\n",
       "    </tr>\n",
       "  </thead>\n",
       "  <tbody>\n",
       "    <tr>\n",
       "      <th>103</th>\n",
       "      <td>Lomma</td>\n",
       "      <td>93.86</td>\n",
       "    </tr>\n",
       "    <tr>\n",
       "      <th>59</th>\n",
       "      <td>Habo</td>\n",
       "      <td>93.35</td>\n",
       "    </tr>\n",
       "    <tr>\n",
       "      <th>98</th>\n",
       "      <td>Vellinge</td>\n",
       "      <td>93.13</td>\n",
       "    </tr>\n",
       "  </tbody>\n",
       "</table>\n",
       "</div>"
      ],
      "text/plain": [
       "    KOMMUNNAMN  VALDELTAGANDE\n",
       "103      Lomma          93.86\n",
       "59        Habo          93.35\n",
       "98    Vellinge          93.13"
      ]
     },
     "execution_count": 266,
     "metadata": {},
     "output_type": "execute_result"
    }
   ],
   "source": [
    "# Sort the DataFrame by Valdeltagande in descending order\n",
    "top3_participation = election_df.sort_values(\"VALDELTAGANDE\", ascending=False)\n",
    "\n",
    "# Select relevant columns\n",
    "top3_participation = top3_participation[[\"KOMMUNNAMN\", \"VALDELTAGANDE\"]]\n",
    "\n",
    "# Display the top 3\n",
    "top3_participation.head(3)"
   ]
  },
  {
   "cell_type": "markdown",
   "id": "be8b9180-5fa3-4cd2-aabc-426df74b03bf",
   "metadata": {
    "tags": []
   },
   "source": [
    "## <a id=\"predicting-strokes\">3. Predicting Strokes</a>"
   ]
  },
  {
   "cell_type": "markdown",
   "id": "4850de1c-8d18-4de4-b734-a8d71fa5077e",
   "metadata": {},
   "source": [
    "We will analyze data on stroke cases and related individual factors to uncover patterns associated with stroke occurrences. Suitable visualizations will be used to highlight any correlation between hypertension and stroke cases, leading to a conclusion."
   ]
  },
  {
   "cell_type": "code",
   "execution_count": 267,
   "id": "ae4972f0-284d-4bfe-98ba-576eaab7d79d",
   "metadata": {
    "tags": []
   },
   "outputs": [
    {
     "data": {
      "text/html": [
       "<div>\n",
       "<style scoped>\n",
       "    .dataframe tbody tr th:only-of-type {\n",
       "        vertical-align: middle;\n",
       "    }\n",
       "\n",
       "    .dataframe tbody tr th {\n",
       "        vertical-align: top;\n",
       "    }\n",
       "\n",
       "    .dataframe thead th {\n",
       "        text-align: right;\n",
       "    }\n",
       "</style>\n",
       "<table border=\"1\" class=\"dataframe\">\n",
       "  <thead>\n",
       "    <tr style=\"text-align: right;\">\n",
       "      <th></th>\n",
       "      <th>id</th>\n",
       "      <th>gender</th>\n",
       "      <th>age</th>\n",
       "      <th>hypertension</th>\n",
       "      <th>heart_disease</th>\n",
       "      <th>ever_married</th>\n",
       "      <th>work_type</th>\n",
       "      <th>Residence_type</th>\n",
       "      <th>avg_glucose_level</th>\n",
       "      <th>bmi</th>\n",
       "      <th>smoking_status</th>\n",
       "      <th>stroke</th>\n",
       "    </tr>\n",
       "  </thead>\n",
       "  <tbody>\n",
       "    <tr>\n",
       "      <th>0</th>\n",
       "      <td>9046</td>\n",
       "      <td>Male</td>\n",
       "      <td>67.0</td>\n",
       "      <td>0</td>\n",
       "      <td>1</td>\n",
       "      <td>Yes</td>\n",
       "      <td>Private</td>\n",
       "      <td>Urban</td>\n",
       "      <td>228.69</td>\n",
       "      <td>36.6</td>\n",
       "      <td>formerly smoked</td>\n",
       "      <td>1</td>\n",
       "    </tr>\n",
       "    <tr>\n",
       "      <th>1</th>\n",
       "      <td>51676</td>\n",
       "      <td>Female</td>\n",
       "      <td>61.0</td>\n",
       "      <td>0</td>\n",
       "      <td>0</td>\n",
       "      <td>Yes</td>\n",
       "      <td>Self-employed</td>\n",
       "      <td>Rural</td>\n",
       "      <td>202.21</td>\n",
       "      <td>NaN</td>\n",
       "      <td>never smoked</td>\n",
       "      <td>1</td>\n",
       "    </tr>\n",
       "    <tr>\n",
       "      <th>2</th>\n",
       "      <td>31112</td>\n",
       "      <td>Male</td>\n",
       "      <td>80.0</td>\n",
       "      <td>0</td>\n",
       "      <td>1</td>\n",
       "      <td>Yes</td>\n",
       "      <td>Private</td>\n",
       "      <td>Rural</td>\n",
       "      <td>105.92</td>\n",
       "      <td>32.5</td>\n",
       "      <td>never smoked</td>\n",
       "      <td>1</td>\n",
       "    </tr>\n",
       "  </tbody>\n",
       "</table>\n",
       "</div>"
      ],
      "text/plain": [
       "      id  gender   age  hypertension  heart_disease ever_married  \\\n",
       "0   9046    Male  67.0             0              1          Yes   \n",
       "1  51676  Female  61.0             0              0          Yes   \n",
       "2  31112    Male  80.0             0              1          Yes   \n",
       "\n",
       "       work_type Residence_type  avg_glucose_level   bmi   smoking_status  \\\n",
       "0        Private          Urban             228.69  36.6  formerly smoked   \n",
       "1  Self-employed          Rural             202.21   NaN     never smoked   \n",
       "2        Private          Rural             105.92  32.5     never smoked   \n",
       "\n",
       "   stroke  \n",
       "0       1  \n",
       "1       1  \n",
       "2       1  "
      ]
     },
     "execution_count": 267,
     "metadata": {},
     "output_type": "execute_result"
    }
   ],
   "source": [
    "# Import necessary libraries\n",
    "import seaborn as sns\n",
    "import matplotlib.pyplot as plt\n",
    "\n",
    "# Read the stroke data\n",
    "stroke_url = \"https://raw.githubusercontent.com/su-mt4007/data/refs/heads/main/stroke-data.csv\"\n",
    "stroke_df = pd.read_csv(stroke_url)\n",
    "\n",
    "# Display the first few rows\n",
    "stroke_df.head(3)"
   ]
  },
  {
   "cell_type": "markdown",
   "id": "5c3689af-0c33-4e9e-a67e-b3e31547f458",
   "metadata": {},
   "source": [
    "### <a id=\"hypertension-and-stroke-cases\">3.1 Hypertension and stroke cases</a>\n",
    "We will analyze data relating hypertension and stroke. Whether individuals who have hypertension are more likely to have experienced a stroke. We first attempt with a count plot."
   ]
  },
  {
   "cell_type": "code",
   "execution_count": 268,
   "id": "d8d7b91e-5322-402a-960b-4746b9bfd57c",
   "metadata": {
    "tags": []
   },
   "outputs": [
    {
     "data": {
      "image/png": "[encoded data removed]",
      "text/plain": [
       "<Figure size 500x400 with 1 Axes>"
      ]
     },
     "metadata": {},
     "output_type": "display_data"
    }
   ],
   "source": [
    "# Set the aesthetic style of the plots\n",
    "sns.set(style=\"whitegrid\")\n",
    "\n",
    "# Initialize the matplotlib figure\n",
    "plt.figure(figsize=(5, 4))\n",
    "\n",
    "# Create a count plot for Hypertension with Stroke as hue\n",
    "sns.countplot(\n",
    "    data=stroke_df,\n",
    "    x=\"hypertension\",\n",
    "    hue=\"stroke\",\n",
    "    palette=\"Set1\"\n",
    ")\n",
    "\n",
    "# Add titles and labels\n",
    "plt.title(\"Stroke Occurrence by Hypertension Status\")\n",
    "plt.xlabel(\"Hypertension Status\")\n",
    "plt.ylabel(\"Number of Individuals\")\n",
    "\n",
    "# Customize the legend\n",
    "plt.legend(title=\"Stroke\", labels=[\"No Stroke\", \"Stroke\"])\n",
    "\n",
    "# Customize x-axis labels\n",
    "plt.xticks([0, 1], [\"No Hypertension\", \"Hypertension\"])\n",
    "\n",
    "# Figure Label\n",
    "plt.figtext(0.1, -0.1, \"Figure 1: Countplot over stroke occurrence by hypertension status. The x-axis shows hypertension status, the y-axis shows the number of individuals. Red indicates no stroke, and blue indicates stroke.\", wrap=True, horizontalalignment='left', fontsize=10)\n",
    "\n",
    "# Display the plot\n",
    "plt.tight_layout()\n",
    "plt.show()"
   ]
  },
  {
   "cell_type": "markdown",
   "id": "de07c659-9668-4820-bd87-0e4bfe27c9c8",
   "metadata": {},
   "source": [
    "We see in figure 1 that that the plot we have created is an unbalanced scale. The vast difference in the number of individuals between the \"No Hypertension\" and \"Hypertension\" categories makes it hard to discern any meaningful patterns. We attempt to normalize the data using percentages."
   ]
  },
  {
   "cell_type": "code",
   "execution_count": 269,
   "id": "dcf73b98-244a-4d80-bf4d-c7419072a269",
   "metadata": {
    "tags": []
   },
   "outputs": [
    {
     "data": {
      "image/png": "[encoded data removed]",
      "text/plain": [
       "<Figure size 800x600 with 1 Axes>"
      ]
     },
     "metadata": {},
     "output_type": "display_data"
    }
   ],
   "source": [
    "# Calculate the percentage of stroke occurrences within each hypertension status\n",
    "percentage_df = (\n",
    "    stroke_df.groupby(\"hypertension\")[\"stroke\"]\n",
    "    .value_counts(normalize=True)\n",
    "    .mul(100)\n",
    "    .rename(\"Percentage\")\n",
    "    .reset_index()\n",
    "    .query(\"stroke == 1\")\n",
    ")\n",
    "\n",
    "# Initialize the matplotlib figure\n",
    "plt.figure(figsize=(8, 6))\n",
    "\n",
    "# Create a bar plot showing the percentage of stroke occurrences within each hypertension status\n",
    "sns.barplot(\n",
    "    data=percentage_df,\n",
    "    x=\"hypertension\",\n",
    "    y=\"Percentage\",\n",
    "    palette= \"Set1\"\n",
    ")\n",
    "\n",
    "# Add titles and labels\n",
    "plt.title('Percentage of Stroke Occurrence by Hypertension Status')\n",
    "plt.xlabel('Hypertension Status')\n",
    "plt.ylabel('Percentage of Individuals')\n",
    "\n",
    "# Customize x-axis labels\n",
    "plt.xticks([0, 1], [\"No Hypertension\", \"Hypertension\"])\n",
    "\n",
    "# Figure Label\n",
    "plt.figtext(0.1, -0.1, \"Figure 2: barplot over stroke occurrence by hypertension status. The x-axis shows hypertension status, the y-axis shows the percentage of individuals.\", wrap=True, horizontalalignment='left', fontsize=10)\n",
    "\n",
    "# Display the plot\n",
    "plt.tight_layout()\n",
    "plt.show()"
   ]
  },
  {
   "cell_type": "markdown",
   "id": "2111d4fd-11d6-40c2-af4d-ef58bc608784",
   "metadata": {},
   "source": [
    "### <a id=\"conclusion-from-data-visualization\">3.2 Conclusion from Data Visualization</a>\n",
    "In figure 2 we see that 4% of the people with no hypertension have had stroke while that number stands at 13% for people with hypertension, that is 3 times more. We can conclude that individuals with hypertension have a significantly higher percentage of strokes compared to those without hypertension. While most individuals in both groups do not experience strokes, the proportion of stroke occurrences is visibly higher among those with hypertension. This suggests that hypertension is a significant risk factor for stroke."
   ]
  }
 ],
 "metadata": {
  "kernelspec": {
   "display_name": "Python 3 (ipykernel)",
   "language": "python",
   "name": "python3"
  },
  "language_info": {
   "codemirror_mode": {
    "name": "ipython",
    "version": 3
   },
   "file_extension": ".py",
   "mimetype": "text/x-python",
   "name": "python",
   "nbconvert_exporter": "python",
   "pygments_lexer": "ipython3",
   "version": "3.11.5"
  }
 },
 "nbformat": 4,
 "nbformat_minor": 5
}
